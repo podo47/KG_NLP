{
 "cells": [
  {
   "cell_type": "markdown",
   "metadata": {},
   "source": [
    "# Setup"
   ]
  },
  {
   "cell_type": "markdown",
   "metadata": {},
   "source": [
    "conda activate knowledge-graph"
   ]
  },
  {
   "cell_type": "code",
   "execution_count": 2,
   "metadata": {},
   "outputs": [],
   "source": [
    "import pandas as pd\n",
    "import numpy as np\n",
    "import os\n",
    "#from langchain.document_loaders import PyPDFLoader, UnstructuredPDFLoader, PyPDFium2Loader\n",
    "from langchain.document_loaders import PyPDFDirectoryLoader, DirectoryLoader\n",
    "from langchain.text_splitter import RecursiveCharacterTextSplitter\n",
    "from pathlib import Path\n",
    "import random"
   ]
  },
  {
   "cell_type": "code",
   "execution_count": 3,
   "metadata": {},
   "outputs": [],
   "source": [
    "## Input data directory\n",
    "data_dir = \"story\"\n",
    "inputdirectory = Path(f\"./data_input/{data_dir}\")\n",
    "## This is where the output csv files will be written\n",
    "out_dir = data_dir\n",
    "outputdirectory = Path(f\"./data_output/{out_dir}\")"
   ]
  },
  {
   "cell_type": "markdown",
   "metadata": {},
   "source": [
    "# Load Documents"
   ]
  },
  {
   "cell_type": "markdown",
   "metadata": {},
   "source": [
    "Load"
   ]
  },
  {
   "cell_type": "code",
   "execution_count": 11,
   "metadata": {},
   "outputs": [
    {
     "name": "stderr",
     "output_type": "stream",
     "text": [
      "100%|██████████| 10/10 [00:00<00:00, 29.61it/s]\n"
     ]
    }
   ],
   "source": [
    "## PDF Loader\n",
    "# loader = PyPDFDirectoryLoader(Path(f\"./data_input\"))\n",
    "\n",
    "## File txt Loader\n",
    "loader = DirectoryLoader(inputdirectory, show_progress=True)\n",
    "documents = loader.load()"
   ]
  },
  {
   "cell_type": "markdown",
   "metadata": {},
   "source": [
    "定義分割器"
   ]
  },
  {
   "cell_type": "code",
   "execution_count": 12,
   "metadata": {},
   "outputs": [],
   "source": [
    "'''\n",
    "chunk_size：每個段落的最大字數\n",
    "chunk_overlap：每個段落的重疊字數，用於保持上下文連貫\n",
    "length_function：用於計算文本長度的函數，這裡使用 Python 的內建函數 len\n",
    "is_separator_regex：檢測段落分隔符的正則表達式，這裡設置為 False，表示不使用正則表達式，而是使用固定的 chunk_size 和 chunk_overlap 來分割文本\n",
    "'''\n",
    "splitter = RecursiveCharacterTextSplitter(\n",
    "    chunk_size=50,\n",
    "    chunk_overlap=20,\n",
    "    length_function=len,\n",
    "    is_separator_regex=False,\n",
    ")\n"
   ]
  },
  {
   "cell_type": "markdown",
   "metadata": {},
   "source": [
    "分割文件"
   ]
  },
  {
   "cell_type": "code",
   "execution_count": 30,
   "metadata": {},
   "outputs": [
    {
     "name": "stdout",
     "output_type": "stream",
     "text": [
      "Doc 0 : Number of chunks = 32\n"
     ]
    }
   ],
   "source": [
    "# 初始化一個空列表，用於存所有切分后的片段\n",
    "pages = []\n",
    "# 定義要讀的文檔數量\n",
    "num_documents = 1\n",
    "\n",
    "# 遍歷每個文檔，分別進行切分，並將結果添加到 pages 列表\n",
    "for i in range(num_documents):\n",
    "    # 對單一文檔切分\n",
    "    DocChunks = splitter.split_documents([documents[i]])\n",
    "    print(f\"Doc {i} : Number of chunks = {len(DocChunks)}\")\n",
    "    # 將切分後的片段添加到 pages 列表中\n",
    "    pages.append(DocChunks)"
   ]
  },
  {
   "cell_type": "code",
   "execution_count": 31,
   "metadata": {},
   "outputs": [
    {
     "name": "stdout",
     "output_type": "stream",
     "text": [
      "person's hand is positioned as if they are about\n"
     ]
    }
   ],
   "source": [
    "# pages[doc][chunks]\n",
    "print(pages[0][7].page_content)"
   ]
  },
  {
   "cell_type": "markdown",
   "metadata": {},
   "source": [
    "# Create a dataframe of all the chunks"
   ]
  },
  {
   "cell_type": "code",
   "execution_count": 32,
   "metadata": {},
   "outputs": [],
   "source": [
    "from helpers.df_helpers import documents2Dataframe"
   ]
  },
  {
   "cell_type": "code",
   "execution_count": 33,
   "metadata": {},
   "outputs": [
    {
     "name": "stdout",
     "output_type": "stream",
     "text": [
      "(32, 3)\n"
     ]
    },
    {
     "data": {
      "text/html": [
       "<div>\n",
       "<style scoped>\n",
       "    .dataframe tbody tr th:only-of-type {\n",
       "        vertical-align: middle;\n",
       "    }\n",
       "\n",
       "    .dataframe tbody tr th {\n",
       "        vertical-align: top;\n",
       "    }\n",
       "\n",
       "    .dataframe thead th {\n",
       "        text-align: right;\n",
       "    }\n",
       "</style>\n",
       "<table border=\"1\" class=\"dataframe\">\n",
       "  <thead>\n",
       "    <tr style=\"text-align: right;\">\n",
       "      <th></th>\n",
       "      <th>text</th>\n",
       "      <th>source</th>\n",
       "      <th>chunk_id</th>\n",
       "    </tr>\n",
       "  </thead>\n",
       "  <tbody>\n",
       "    <tr>\n",
       "      <th>0</th>\n",
       "      <td>The image shows a cat gazing up at a person in a</td>\n",
       "      <td>data_input\\story\\0.txt</td>\n",
       "      <td>354f855ab0a44d5bb8edd7c9fe1bd87d</td>\n",
       "    </tr>\n",
       "    <tr>\n",
       "      <th>1</th>\n",
       "      <td>up at a person in a blue shirt. The person's hand</td>\n",
       "      <td>data_input\\story\\0.txt</td>\n",
       "      <td>4647a23fb2be4d03b674e3a0c756b6c4</td>\n",
       "    </tr>\n",
       "    <tr>\n",
       "      <th>2</th>\n",
       "      <td>The person's hand is raised in the air, and the</td>\n",
       "      <td>data_input\\story\\0.txt</td>\n",
       "      <td>55469b45796e445f887c00fa71cee81b</td>\n",
       "    </tr>\n",
       "    <tr>\n",
       "      <th>3</th>\n",
       "      <td>in the air, and the cat's ears are perked up as</td>\n",
       "      <td>data_input\\story\\0.txt</td>\n",
       "      <td>0a1cbbbbc20b4630aecedc539d4d88f2</td>\n",
       "    </tr>\n",
       "    <tr>\n",
       "      <th>4</th>\n",
       "      <td>are perked up as if listening to a sound. The</td>\n",
       "      <td>data_input\\story\\0.txt</td>\n",
       "      <td>316469a1cccb4679aa9e4cf5367889e4</td>\n",
       "    </tr>\n",
       "  </tbody>\n",
       "</table>\n",
       "</div>"
      ],
      "text/plain": [
       "                                                text                  source  \\\n",
       "0   The image shows a cat gazing up at a person in a  data_input\\story\\0.txt   \n",
       "1  up at a person in a blue shirt. The person's hand  data_input\\story\\0.txt   \n",
       "2    The person's hand is raised in the air, and the  data_input\\story\\0.txt   \n",
       "3    in the air, and the cat's ears are perked up as  data_input\\story\\0.txt   \n",
       "4      are perked up as if listening to a sound. The  data_input\\story\\0.txt   \n",
       "\n",
       "                           chunk_id  \n",
       "0  354f855ab0a44d5bb8edd7c9fe1bd87d  \n",
       "1  4647a23fb2be4d03b674e3a0c756b6c4  \n",
       "2  55469b45796e445f887c00fa71cee81b  \n",
       "3  0a1cbbbbc20b4630aecedc539d4d88f2  \n",
       "4  316469a1cccb4679aa9e4cf5367889e4  "
      ]
     },
     "execution_count": 33,
     "metadata": {},
     "output_type": "execute_result"
    }
   ],
   "source": [
    "df=[]\n",
    "for page in pages:\n",
    "    # 將每個文檔的片段轉換為 DataFrame，並將其添加到 pages 列表中\n",
    "    page_df = documents2Dataframe(page)\n",
    "    df.append(page_df)\n",
    "    print(page_df.shape)\n",
    "\n",
    "df[0].head()"
   ]
  },
  {
   "cell_type": "markdown",
   "metadata": {},
   "source": [
    "## Extract Concepts"
   ]
  },
  {
   "cell_type": "code",
   "execution_count": 34,
   "metadata": {},
   "outputs": [],
   "source": [
    "## This function uses the helpers/prompt function to extract concepts from text\n",
    "from helpers.df_helpers1 import df2Graph\n",
    "from helpers.df_helpers1 import graph2Df"
   ]
  },
  {
   "cell_type": "markdown",
   "metadata": {},
   "source": [
    "If regenerate is set to True then the dataframes are regenerated and Both the dataframes are written in the csv format so we dont have to calculate them again. \n",
    "\n",
    "        dfne = dataframe of edges\n",
    "\n",
    "        df = dataframe of chunks\n",
    "\n",
    "\n",
    "Else the dataframes are read from the output directory"
   ]
  },
  {
   "cell_type": "code",
   "execution_count": null,
   "metadata": {},
   "outputs": [
    {
     "name": "stdout",
     "output_type": "stream",
     "text": [
      "[\n",
      "  {\n",
      "    \"node_1\": \"cat\",\n",
      "    \"node_2\": \"person\",\n",
      "    \"edge\": \"gazes_at\"\n",
      "  }\n",
      "]\n",
      "\n",
      "Format: \n",
      "[\n",
      "  {\n",
      "    \"source\": \"node_1\", // can be replaced with id or index\n",
      "    \"target\": \"node_2\", // can be replaced with id or index\n",
      "    \"label\": \"edge\", // label for the relation between the nodes\n",
      "    \"weight\": numeric value to indicate strength of the relationship (optional)\n",
      "  }\n",
      "]\n",
      "\n",
      "In this case, the output would be:\n",
      "\n",
      "[\n",
      "  {\n",
      "    \"source\": 0,\n",
      "    \"target\": 1,\n",
      "    \"label\": \"gazes_at\"\n",
      "  }\n",
      "]\n",
      "\n",
      "Alternative format with id or index:\n",
      "\n",
      "[\n",
      "  {\n",
      "    \"id\": \"cat-ontology\",\n",
      "    \"related_concepts\": [\n",
      "      {\n",
      "        \"id\": \"person-ontology\",\n",
      "        \"relation\": \"gazes_at\"\n",
      "      }\n",
      "    ]\n",
      "  }\n",
      "]\n",
      "\n",
      "This would represent the same relationship between the nodes, where \"cat-ontology\" and \"person-ontology\" are the ids or indices assigned to each node in the ontology. The \"related_concepts\" key holds an array of related concepts for the current concept, represented by their respective ids/indices and relation keys"
     ]
    }
   ],
   "source": [
    "# To regenerate the graph with LLM, set \"regenerate\" to True\n",
    "# regenerate = False\n",
    "regenerate = True\n",
    "\n",
    "for i in range(len(df)):\n",
    "    if regenerate:\n",
    "        concepts_list = df2Graph(df[i], model='zephyr:latest')\n",
    "        dfg1 = graph2Df(concepts_list)\n",
    "        if not os.path.exists(outputdirectory):\n",
    "            os.makedirs(outputdirectory)\n",
    "        \n",
    "        dfg1.to_csv(outputdirectory/f\"graph_{i}.csv\", sep=\"|\", index=False)\n",
    "        df[i].to_csv(outputdirectory/f\"chunks_{i}.csv\", sep=\"|\", index=False)"
   ]
  },
  {
   "cell_type": "markdown",
   "metadata": {},
   "source": []
  },
  {
   "cell_type": "code",
   "execution_count": null,
   "metadata": {},
   "outputs": [],
   "source": [
    "dfg1 = pd.read_csv(outputdirectory/\"graph.csv\", sep=\"|\")"
   ]
  },
  {
   "cell_type": "code",
   "execution_count": 11,
   "metadata": {},
   "outputs": [
    {
     "name": "stdout",
     "output_type": "stream",
     "text": [
      "(26, 5)\n"
     ]
    },
    {
     "data": {
      "text/html": [
       "<div>\n",
       "<style scoped>\n",
       "    .dataframe tbody tr th:only-of-type {\n",
       "        vertical-align: middle;\n",
       "    }\n",
       "\n",
       "    .dataframe tbody tr th {\n",
       "        vertical-align: top;\n",
       "    }\n",
       "\n",
       "    .dataframe thead th {\n",
       "        text-align: right;\n",
       "    }\n",
       "</style>\n",
       "<table border=\"1\" class=\"dataframe\">\n",
       "  <thead>\n",
       "    <tr style=\"text-align: right;\">\n",
       "      <th></th>\n",
       "      <th>node_1</th>\n",
       "      <th>node_2</th>\n",
       "      <th>edge</th>\n",
       "      <th>chunk_id</th>\n",
       "      <th>count</th>\n",
       "    </tr>\n",
       "  </thead>\n",
       "  <tbody>\n",
       "    <tr>\n",
       "      <th>0</th>\n",
       "      <td>peter</td>\n",
       "      <td>village</td>\n",
       "      <td>lived</td>\n",
       "      <td>abf638054f5c4e37828abc3d9570851d</td>\n",
       "      <td>4</td>\n",
       "    </tr>\n",
       "    <tr>\n",
       "      <th>1</th>\n",
       "      <td>peter</td>\n",
       "      <td>sheep farmers</td>\n",
       "      <td>parents</td>\n",
       "      <td>abf638054f5c4e37828abc3d9570851d</td>\n",
       "      <td>4</td>\n",
       "    </tr>\n",
       "    <tr>\n",
       "      <th>2</th>\n",
       "      <td>sheep</td>\n",
       "      <td>sheep farmers</td>\n",
       "      <td>belong to</td>\n",
       "      <td>abf638054f5c4e37828abc3d9570851d</td>\n",
       "      <td>4</td>\n",
       "    </tr>\n",
       "    <tr>\n",
       "      <th>3</th>\n",
       "      <td>peter</td>\n",
       "      <td>sheep</td>\n",
       "      <td>responsibility</td>\n",
       "      <td>abf638054f5c4e37828abc3d9570851d</td>\n",
       "      <td>4</td>\n",
       "    </tr>\n",
       "    <tr>\n",
       "      <th>4</th>\n",
       "      <td>village</td>\n",
       "      <td>looking after sheep</td>\n",
       "      <td>requirement</td>\n",
       "      <td>abf638054f5c4e37828abc3d9570851d</td>\n",
       "      <td>4</td>\n",
       "    </tr>\n",
       "  </tbody>\n",
       "</table>\n",
       "</div>"
      ],
      "text/plain": [
       "    node_1               node_2            edge  \\\n",
       "0    peter              village           lived   \n",
       "1    peter        sheep farmers         parents   \n",
       "2    sheep        sheep farmers       belong to   \n",
       "3    peter                sheep  responsibility   \n",
       "4  village  looking after sheep     requirement   \n",
       "\n",
       "                           chunk_id  count  \n",
       "0  abf638054f5c4e37828abc3d9570851d      4  \n",
       "1  abf638054f5c4e37828abc3d9570851d      4  \n",
       "2  abf638054f5c4e37828abc3d9570851d      4  \n",
       "3  abf638054f5c4e37828abc3d9570851d      4  \n",
       "4  abf638054f5c4e37828abc3d9570851d      4  "
      ]
     },
     "execution_count": 11,
     "metadata": {},
     "output_type": "execute_result"
    }
   ],
   "source": [
    "dfg1.replace(\"\", np.nan, inplace=True)\n",
    "dfg1.dropna(subset=[\"node_1\", \"node_2\", 'edge'], inplace=True)\n",
    "dfg1['count'] = 4 \n",
    "## Increasing the weight of the relation to 4. \n",
    "## We will assign the weight of 1 when later the contextual proximity will be calculated.  \n",
    "print(dfg1.shape)\n",
    "dfg1.head()"
   ]
  },
  {
   "cell_type": "markdown",
   "metadata": {},
   "source": [
    "## Calculating contextual proximity"
   ]
  },
  {
   "cell_type": "code",
   "execution_count": 12,
   "metadata": {},
   "outputs": [
    {
     "data": {
      "text/html": [
       "<div>\n",
       "<style scoped>\n",
       "    .dataframe tbody tr th:only-of-type {\n",
       "        vertical-align: middle;\n",
       "    }\n",
       "\n",
       "    .dataframe tbody tr th {\n",
       "        vertical-align: top;\n",
       "    }\n",
       "\n",
       "    .dataframe thead th {\n",
       "        text-align: right;\n",
       "    }\n",
       "</style>\n",
       "<table border=\"1\" class=\"dataframe\">\n",
       "  <thead>\n",
       "    <tr style=\"text-align: right;\">\n",
       "      <th></th>\n",
       "      <th>node_1</th>\n",
       "      <th>node_2</th>\n",
       "      <th>chunk_id</th>\n",
       "      <th>count</th>\n",
       "      <th>edge</th>\n",
       "    </tr>\n",
       "  </thead>\n",
       "  <tbody>\n",
       "    <tr>\n",
       "      <th>207</th>\n",
       "      <td>wolf</td>\n",
       "      <td>village</td>\n",
       "      <td>abf638054f5c4e37828abc3d9570851d,abf638054f5c4...</td>\n",
       "      <td>10</td>\n",
       "      <td>contextual proximity</td>\n",
       "    </tr>\n",
       "    <tr>\n",
       "      <th>208</th>\n",
       "      <td>wolf</td>\n",
       "      <td>villagers</td>\n",
       "      <td>abf638054f5c4e37828abc3d9570851d,abf638054f5c4...</td>\n",
       "      <td>8</td>\n",
       "      <td>contextual proximity</td>\n",
       "    </tr>\n",
       "    <tr>\n",
       "      <th>214</th>\n",
       "      <td>wrongdoing</td>\n",
       "      <td>peter</td>\n",
       "      <td>1953d0d0f3804271bd17d7bcb46b42c3,1953d0d0f3804...</td>\n",
       "      <td>3</td>\n",
       "      <td>contextual proximity</td>\n",
       "    </tr>\n",
       "    <tr>\n",
       "      <th>215</th>\n",
       "      <td>wrongdoing</td>\n",
       "      <td>sheep</td>\n",
       "      <td>1953d0d0f3804271bd17d7bcb46b42c3,1953d0d0f3804...</td>\n",
       "      <td>2</td>\n",
       "      <td>contextual proximity</td>\n",
       "    </tr>\n",
       "    <tr>\n",
       "      <th>217</th>\n",
       "      <td>wrongdoing</td>\n",
       "      <td>village</td>\n",
       "      <td>1953d0d0f3804271bd17d7bcb46b42c3,1953d0d0f3804...</td>\n",
       "      <td>2</td>\n",
       "      <td>contextual proximity</td>\n",
       "    </tr>\n",
       "  </tbody>\n",
       "</table>\n",
       "</div>"
      ],
      "text/plain": [
       "         node_1     node_2                                           chunk_id  \\\n",
       "207        wolf    village  abf638054f5c4e37828abc3d9570851d,abf638054f5c4...   \n",
       "208        wolf  villagers  abf638054f5c4e37828abc3d9570851d,abf638054f5c4...   \n",
       "214  wrongdoing      peter  1953d0d0f3804271bd17d7bcb46b42c3,1953d0d0f3804...   \n",
       "215  wrongdoing      sheep  1953d0d0f3804271bd17d7bcb46b42c3,1953d0d0f3804...   \n",
       "217  wrongdoing    village  1953d0d0f3804271bd17d7bcb46b42c3,1953d0d0f3804...   \n",
       "\n",
       "     count                  edge  \n",
       "207     10  contextual proximity  \n",
       "208      8  contextual proximity  \n",
       "214      3  contextual proximity  \n",
       "215      2  contextual proximity  \n",
       "217      2  contextual proximity  "
      ]
     },
     "execution_count": 12,
     "metadata": {},
     "output_type": "execute_result"
    }
   ],
   "source": [
    "def contextual_proximity(df: pd.DataFrame) -> pd.DataFrame:\n",
    "    ## Melt the dataframe into a list of nodes\n",
    "    dfg_long = pd.melt(\n",
    "        df, id_vars=[\"chunk_id\"], value_vars=[\"node_1\", \"node_2\"], value_name=\"node\"\n",
    "    )\n",
    "    dfg_long.drop(columns=[\"variable\"], inplace=True)\n",
    "    # Self join with chunk id as the key will create a link between terms occuring in the same text chunk.\n",
    "    dfg_wide = pd.merge(dfg_long, dfg_long, on=\"chunk_id\", suffixes=(\"_1\", \"_2\"))\n",
    "    # drop self loops\n",
    "    self_loops_drop = dfg_wide[dfg_wide[\"node_1\"] == dfg_wide[\"node_2\"]].index\n",
    "    dfg2 = dfg_wide.drop(index=self_loops_drop).reset_index(drop=True)\n",
    "    ## Group and count edges.\n",
    "    dfg2 = (\n",
    "        dfg2.groupby([\"node_1\", \"node_2\"])\n",
    "        .agg({\"chunk_id\": [\",\".join, \"count\"]})\n",
    "        .reset_index()\n",
    "    )\n",
    "    dfg2.columns = [\"node_1\", \"node_2\", \"chunk_id\", \"count\"]\n",
    "    dfg2.replace(\"\", np.nan, inplace=True)\n",
    "    dfg2.dropna(subset=[\"node_1\", \"node_2\"], inplace=True)\n",
    "    # Drop edges with 1 count\n",
    "    dfg2 = dfg2[dfg2[\"count\"] != 1]\n",
    "    dfg2[\"edge\"] = \"contextual proximity\"\n",
    "    return dfg2\n",
    "\n",
    "\n",
    "dfg2 = contextual_proximity(dfg1)\n",
    "dfg2.tail()"
   ]
  },
  {
   "cell_type": "markdown",
   "metadata": {},
   "source": [
    "### Merge both the dataframes"
   ]
  },
  {
   "cell_type": "code",
   "execution_count": 13,
   "metadata": {},
   "outputs": [
    {
     "data": {
      "text/html": [
       "<div>\n",
       "<style scoped>\n",
       "    .dataframe tbody tr th:only-of-type {\n",
       "        vertical-align: middle;\n",
       "    }\n",
       "\n",
       "    .dataframe tbody tr th {\n",
       "        vertical-align: top;\n",
       "    }\n",
       "\n",
       "    .dataframe thead th {\n",
       "        text-align: right;\n",
       "    }\n",
       "</style>\n",
       "<table border=\"1\" class=\"dataframe\">\n",
       "  <thead>\n",
       "    <tr style=\"text-align: right;\">\n",
       "      <th></th>\n",
       "      <th>node_1</th>\n",
       "      <th>node_2</th>\n",
       "      <th>chunk_id</th>\n",
       "      <th>edge</th>\n",
       "      <th>count</th>\n",
       "    </tr>\n",
       "  </thead>\n",
       "  <tbody>\n",
       "    <tr>\n",
       "      <th>0</th>\n",
       "      <td>another villager</td>\n",
       "      <td>peter</td>\n",
       "      <td>1953d0d0f3804271bd17d7bcb46b42c3,1953d0d0f3804...</td>\n",
       "      <td>contextual proximity</td>\n",
       "      <td>3</td>\n",
       "    </tr>\n",
       "    <tr>\n",
       "      <th>1</th>\n",
       "      <td>another villager</td>\n",
       "      <td>sheep</td>\n",
       "      <td>1953d0d0f3804271bd17d7bcb46b42c3,1953d0d0f3804...</td>\n",
       "      <td>contextual proximity</td>\n",
       "      <td>2</td>\n",
       "    </tr>\n",
       "    <tr>\n",
       "      <th>2</th>\n",
       "      <td>another villager</td>\n",
       "      <td>village</td>\n",
       "      <td>1953d0d0f3804271bd17d7bcb46b42c3,1953d0d0f3804...</td>\n",
       "      <td>living in,contextual proximity</td>\n",
       "      <td>6</td>\n",
       "    </tr>\n",
       "    <tr>\n",
       "      <th>3</th>\n",
       "      <td>big hairy wolf</td>\n",
       "      <td>peter</td>\n",
       "      <td>1953d0d0f3804271bd17d7bcb46b42c3,1953d0d0f3804...</td>\n",
       "      <td>contextual proximity</td>\n",
       "      <td>3</td>\n",
       "    </tr>\n",
       "    <tr>\n",
       "      <th>4</th>\n",
       "      <td>big hairy wolf</td>\n",
       "      <td>sheep</td>\n",
       "      <td>1953d0d0f3804271bd17d7bcb46b42c3,1953d0d0f3804...</td>\n",
       "      <td>is chasing,contextual proximity</td>\n",
       "      <td>6</td>\n",
       "    </tr>\n",
       "    <tr>\n",
       "      <th>...</th>\n",
       "      <td>...</td>\n",
       "      <td>...</td>\n",
       "      <td>...</td>\n",
       "      <td>...</td>\n",
       "      <td>...</td>\n",
       "    </tr>\n",
       "    <tr>\n",
       "      <th>149</th>\n",
       "      <td>wolf</td>\n",
       "      <td>village</td>\n",
       "      <td>abf638054f5c4e37828abc3d9570851d,abf638054f5c4...</td>\n",
       "      <td>false presence of,contextual proximity</td>\n",
       "      <td>14</td>\n",
       "    </tr>\n",
       "    <tr>\n",
       "      <th>150</th>\n",
       "      <td>wolf</td>\n",
       "      <td>villagers</td>\n",
       "      <td>a5898d327a7c416eaf751b2c2cf35c13,abf638054f5c4...</td>\n",
       "      <td>trustworthiness undermined by previous false a...</td>\n",
       "      <td>12</td>\n",
       "    </tr>\n",
       "    <tr>\n",
       "      <th>151</th>\n",
       "      <td>wrongdoing</td>\n",
       "      <td>peter</td>\n",
       "      <td>1953d0d0f3804271bd17d7bcb46b42c3,1953d0d0f3804...</td>\n",
       "      <td>contextual proximity</td>\n",
       "      <td>3</td>\n",
       "    </tr>\n",
       "    <tr>\n",
       "      <th>152</th>\n",
       "      <td>wrongdoing</td>\n",
       "      <td>sheep</td>\n",
       "      <td>1953d0d0f3804271bd17d7bcb46b42c3,1953d0d0f3804...</td>\n",
       "      <td>contextual proximity</td>\n",
       "      <td>2</td>\n",
       "    </tr>\n",
       "    <tr>\n",
       "      <th>153</th>\n",
       "      <td>wrongdoing</td>\n",
       "      <td>village</td>\n",
       "      <td>1953d0d0f3804271bd17d7bcb46b42c3,1953d0d0f3804...</td>\n",
       "      <td>contextual proximity</td>\n",
       "      <td>2</td>\n",
       "    </tr>\n",
       "  </tbody>\n",
       "</table>\n",
       "<p>154 rows × 5 columns</p>\n",
       "</div>"
      ],
      "text/plain": [
       "               node_1     node_2  \\\n",
       "0    another villager      peter   \n",
       "1    another villager      sheep   \n",
       "2    another villager    village   \n",
       "3      big hairy wolf      peter   \n",
       "4      big hairy wolf      sheep   \n",
       "..                ...        ...   \n",
       "149              wolf    village   \n",
       "150              wolf  villagers   \n",
       "151        wrongdoing      peter   \n",
       "152        wrongdoing      sheep   \n",
       "153        wrongdoing    village   \n",
       "\n",
       "                                              chunk_id  \\\n",
       "0    1953d0d0f3804271bd17d7bcb46b42c3,1953d0d0f3804...   \n",
       "1    1953d0d0f3804271bd17d7bcb46b42c3,1953d0d0f3804...   \n",
       "2    1953d0d0f3804271bd17d7bcb46b42c3,1953d0d0f3804...   \n",
       "3    1953d0d0f3804271bd17d7bcb46b42c3,1953d0d0f3804...   \n",
       "4    1953d0d0f3804271bd17d7bcb46b42c3,1953d0d0f3804...   \n",
       "..                                                 ...   \n",
       "149  abf638054f5c4e37828abc3d9570851d,abf638054f5c4...   \n",
       "150  a5898d327a7c416eaf751b2c2cf35c13,abf638054f5c4...   \n",
       "151  1953d0d0f3804271bd17d7bcb46b42c3,1953d0d0f3804...   \n",
       "152  1953d0d0f3804271bd17d7bcb46b42c3,1953d0d0f3804...   \n",
       "153  1953d0d0f3804271bd17d7bcb46b42c3,1953d0d0f3804...   \n",
       "\n",
       "                                                  edge  count  \n",
       "0                                 contextual proximity      3  \n",
       "1                                 contextual proximity      2  \n",
       "2                       living in,contextual proximity      6  \n",
       "3                                 contextual proximity      3  \n",
       "4                      is chasing,contextual proximity      6  \n",
       "..                                                 ...    ...  \n",
       "149             false presence of,contextual proximity     14  \n",
       "150  trustworthiness undermined by previous false a...     12  \n",
       "151                               contextual proximity      3  \n",
       "152                               contextual proximity      2  \n",
       "153                               contextual proximity      2  \n",
       "\n",
       "[154 rows x 5 columns]"
      ]
     },
     "execution_count": 13,
     "metadata": {},
     "output_type": "execute_result"
    }
   ],
   "source": [
    "dfg = pd.concat([dfg1, dfg2], axis=0)\n",
    "dfg = (\n",
    "    dfg.groupby([\"node_1\", \"node_2\"])\n",
    "    .agg({\"chunk_id\": \",\".join, \"edge\": ','.join, 'count': 'sum'})\n",
    "    .reset_index()\n",
    ")\n",
    "dfg"
   ]
  },
  {
   "cell_type": "code",
   "execution_count": 24,
   "metadata": {},
   "outputs": [],
   "source": [
    "dfg.to_csv(outputdirectory/\"graph_final.csv\", sep=\"|\", index=False)"
   ]
  },
  {
   "cell_type": "markdown",
   "metadata": {},
   "source": [
    "## Calculate the NetworkX Graph"
   ]
  },
  {
   "cell_type": "code",
   "execution_count": 14,
   "metadata": {},
   "outputs": [
    {
     "data": {
      "text/plain": [
       "(19,)"
      ]
     },
     "execution_count": 14,
     "metadata": {},
     "output_type": "execute_result"
    }
   ],
   "source": [
    "nodes = pd.concat([dfg['node_1'], dfg['node_2']], axis=0).unique()\n",
    "nodes.shape"
   ]
  },
  {
   "cell_type": "code",
   "execution_count": 15,
   "metadata": {},
   "outputs": [],
   "source": [
    "import networkx as nx"
   ]
  },
  {
   "cell_type": "code",
   "execution_count": 18,
   "metadata": {},
   "outputs": [],
   "source": [
    "G = nx.Graph()\n",
    "\n",
    "## Add nodes to the graph\n",
    "for node in nodes:\n",
    "    G.add_node(\n",
    "        str(node)\n",
    "    )\n",
    "\n",
    "## Add edges to the graph\n",
    "for index, row in dfg.iterrows():\n",
    "    G.add_edge(\n",
    "        str(row[\"node_1\"]),\n",
    "        str(row[\"node_2\"]),\n",
    "        title=row[\"edge\"],\n",
    "        weight=row['count']/4\n",
    "    )"
   ]
  },
  {
   "cell_type": "code",
   "execution_count": 19,
   "metadata": {},
   "outputs": [
    {
     "name": "stdout",
     "output_type": "stream",
     "text": [
      "Graph with 19 nodes and 77 edges\n"
     ]
    }
   ],
   "source": [
    "print(G)"
   ]
  },
  {
   "cell_type": "markdown",
   "metadata": {},
   "source": [
    "### Calculate communities for coloring the nodes"
   ]
  },
  {
   "cell_type": "code",
   "execution_count": 20,
   "metadata": {},
   "outputs": [
    {
     "name": "stdout",
     "output_type": "stream",
     "text": [
      "Number of Communities =  3\n",
      "[['another villager', 'big hairy wolf', 'bleating', 'boredom', 'company', 'fields', 'looking after sheep', 'peter', \"peter's trick\", 'sheep', 'sheep farmers', 'sticks', 'tree', 'village', 'villagers', 'wolf', 'wrongdoing'], ['hillside'], ['old man']]\n"
     ]
    }
   ],
   "source": [
    "communities_generator = nx.community.girvan_newman(G)\n",
    "top_level_communities = next(communities_generator)\n",
    "next_level_communities = next(communities_generator)\n",
    "communities = sorted(map(sorted, next_level_communities))\n",
    "print(\"Number of Communities = \", len(communities))\n",
    "print(communities)"
   ]
  },
  {
   "cell_type": "markdown",
   "metadata": {},
   "source": [
    "### Create a dataframe for community colors"
   ]
  },
  {
   "cell_type": "code",
   "execution_count": 21,
   "metadata": {},
   "outputs": [
    {
     "data": {
      "text/html": [
       "<div>\n",
       "<style scoped>\n",
       "    .dataframe tbody tr th:only-of-type {\n",
       "        vertical-align: middle;\n",
       "    }\n",
       "\n",
       "    .dataframe tbody tr th {\n",
       "        vertical-align: top;\n",
       "    }\n",
       "\n",
       "    .dataframe thead th {\n",
       "        text-align: right;\n",
       "    }\n",
       "</style>\n",
       "<table border=\"1\" class=\"dataframe\">\n",
       "  <thead>\n",
       "    <tr style=\"text-align: right;\">\n",
       "      <th></th>\n",
       "      <th>node</th>\n",
       "      <th>color</th>\n",
       "      <th>group</th>\n",
       "    </tr>\n",
       "  </thead>\n",
       "  <tbody>\n",
       "    <tr>\n",
       "      <th>0</th>\n",
       "      <td>another villager</td>\n",
       "      <td>#57db5f</td>\n",
       "      <td>1</td>\n",
       "    </tr>\n",
       "    <tr>\n",
       "      <th>1</th>\n",
       "      <td>big hairy wolf</td>\n",
       "      <td>#57db5f</td>\n",
       "      <td>1</td>\n",
       "    </tr>\n",
       "    <tr>\n",
       "      <th>2</th>\n",
       "      <td>bleating</td>\n",
       "      <td>#57db5f</td>\n",
       "      <td>1</td>\n",
       "    </tr>\n",
       "    <tr>\n",
       "      <th>3</th>\n",
       "      <td>boredom</td>\n",
       "      <td>#57db5f</td>\n",
       "      <td>1</td>\n",
       "    </tr>\n",
       "    <tr>\n",
       "      <th>4</th>\n",
       "      <td>company</td>\n",
       "      <td>#57db5f</td>\n",
       "      <td>1</td>\n",
       "    </tr>\n",
       "    <tr>\n",
       "      <th>5</th>\n",
       "      <td>fields</td>\n",
       "      <td>#57db5f</td>\n",
       "      <td>1</td>\n",
       "    </tr>\n",
       "    <tr>\n",
       "      <th>6</th>\n",
       "      <td>looking after sheep</td>\n",
       "      <td>#57db5f</td>\n",
       "      <td>1</td>\n",
       "    </tr>\n",
       "    <tr>\n",
       "      <th>7</th>\n",
       "      <td>peter</td>\n",
       "      <td>#57db5f</td>\n",
       "      <td>1</td>\n",
       "    </tr>\n",
       "    <tr>\n",
       "      <th>8</th>\n",
       "      <td>peter's trick</td>\n",
       "      <td>#57db5f</td>\n",
       "      <td>1</td>\n",
       "    </tr>\n",
       "    <tr>\n",
       "      <th>9</th>\n",
       "      <td>sheep</td>\n",
       "      <td>#57db5f</td>\n",
       "      <td>1</td>\n",
       "    </tr>\n",
       "    <tr>\n",
       "      <th>10</th>\n",
       "      <td>sheep farmers</td>\n",
       "      <td>#57db5f</td>\n",
       "      <td>1</td>\n",
       "    </tr>\n",
       "    <tr>\n",
       "      <th>11</th>\n",
       "      <td>sticks</td>\n",
       "      <td>#57db5f</td>\n",
       "      <td>1</td>\n",
       "    </tr>\n",
       "    <tr>\n",
       "      <th>12</th>\n",
       "      <td>tree</td>\n",
       "      <td>#57db5f</td>\n",
       "      <td>1</td>\n",
       "    </tr>\n",
       "    <tr>\n",
       "      <th>13</th>\n",
       "      <td>village</td>\n",
       "      <td>#57db5f</td>\n",
       "      <td>1</td>\n",
       "    </tr>\n",
       "    <tr>\n",
       "      <th>14</th>\n",
       "      <td>villagers</td>\n",
       "      <td>#57db5f</td>\n",
       "      <td>1</td>\n",
       "    </tr>\n",
       "    <tr>\n",
       "      <th>15</th>\n",
       "      <td>wolf</td>\n",
       "      <td>#57db5f</td>\n",
       "      <td>1</td>\n",
       "    </tr>\n",
       "    <tr>\n",
       "      <th>16</th>\n",
       "      <td>wrongdoing</td>\n",
       "      <td>#57db5f</td>\n",
       "      <td>1</td>\n",
       "    </tr>\n",
       "    <tr>\n",
       "      <th>17</th>\n",
       "      <td>hillside</td>\n",
       "      <td>#db5f57</td>\n",
       "      <td>2</td>\n",
       "    </tr>\n",
       "    <tr>\n",
       "      <th>18</th>\n",
       "      <td>old man</td>\n",
       "      <td>#5f57db</td>\n",
       "      <td>3</td>\n",
       "    </tr>\n",
       "  </tbody>\n",
       "</table>\n",
       "</div>"
      ],
      "text/plain": [
       "                   node    color  group\n",
       "0      another villager  #57db5f      1\n",
       "1        big hairy wolf  #57db5f      1\n",
       "2              bleating  #57db5f      1\n",
       "3               boredom  #57db5f      1\n",
       "4               company  #57db5f      1\n",
       "5                fields  #57db5f      1\n",
       "6   looking after sheep  #57db5f      1\n",
       "7                 peter  #57db5f      1\n",
       "8         peter's trick  #57db5f      1\n",
       "9                 sheep  #57db5f      1\n",
       "10        sheep farmers  #57db5f      1\n",
       "11               sticks  #57db5f      1\n",
       "12                 tree  #57db5f      1\n",
       "13              village  #57db5f      1\n",
       "14            villagers  #57db5f      1\n",
       "15                 wolf  #57db5f      1\n",
       "16           wrongdoing  #57db5f      1\n",
       "17             hillside  #db5f57      2\n",
       "18              old man  #5f57db      3"
      ]
     },
     "execution_count": 21,
     "metadata": {},
     "output_type": "execute_result"
    }
   ],
   "source": [
    "import seaborn as sns\n",
    "palette = \"hls\"\n",
    "\n",
    "## Now add these colors to communities and make another dataframe\n",
    "def colors2Community(communities) -> pd.DataFrame:\n",
    "    ## Define a color palette\n",
    "    p = sns.color_palette(palette, len(communities)).as_hex()\n",
    "    random.shuffle(p)\n",
    "    rows = []\n",
    "    group = 0\n",
    "    for community in communities:\n",
    "        color = p.pop()\n",
    "        group += 1\n",
    "        for node in community:\n",
    "            rows += [{\"node\": node, \"color\": color, \"group\": group}]\n",
    "    df_colors = pd.DataFrame(rows)\n",
    "    return df_colors\n",
    "\n",
    "\n",
    "colors = colors2Community(communities)\n",
    "colors"
   ]
  },
  {
   "cell_type": "markdown",
   "metadata": {},
   "source": [
    "### Add colors to the graph"
   ]
  },
  {
   "cell_type": "code",
   "execution_count": 22,
   "metadata": {},
   "outputs": [],
   "source": [
    "for index, row in colors.iterrows():\n",
    "    G.nodes[row['node']]['group'] = row['group']\n",
    "    G.nodes[row['node']]['color'] = row['color']\n",
    "    G.nodes[row['node']]['size'] = G.degree[row['node']]"
   ]
  },
  {
   "cell_type": "code",
   "execution_count": 23,
   "metadata": {},
   "outputs": [],
   "source": [
    "from pyvis.network import Network\n",
    "\n",
    "graph_output_directory = \"./docs/index2.html\"\n",
    "\n",
    "net = Network(\n",
    "    notebook=False,\n",
    "    # bgcolor=\"#1a1a1a\",\n",
    "    cdn_resources=\"remote\",\n",
    "    height=\"900px\",\n",
    "    width=\"100%\",\n",
    "    select_menu=True,\n",
    "    # font_color=\"#cccccc\",\n",
    "    filter_menu=False,\n",
    ")\n",
    "\n",
    "net.from_nx(G)\n",
    "# net.repulsion(node_distance=150, spring_length=400)\n",
    "net.force_atlas_2based(central_gravity=0.015, gravity=-31)\n",
    "# net.barnes_hut(gravity=-18100, central_gravity=5.05, spring_length=380)\n",
    "net.show_buttons(filter_=[\"physics\"])\n",
    "\n",
    "#net.show(graph_output_directory, notebook=False)\n",
    "net.show(graph_output_directory)"
   ]
  }
 ],
 "metadata": {
  "kernelspec": {
   "display_name": "knowledge-graph",
   "language": "python",
   "name": "python3"
  },
  "language_info": {
   "codemirror_mode": {
    "name": "ipython",
    "version": 3
   },
   "file_extension": ".py",
   "mimetype": "text/x-python",
   "name": "python",
   "nbconvert_exporter": "python",
   "pygments_lexer": "ipython3",
   "version": "3.11.11"
  }
 },
 "nbformat": 4,
 "nbformat_minor": 2
}
